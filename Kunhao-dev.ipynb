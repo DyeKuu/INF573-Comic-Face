{
 "cells": [
  {
   "cell_type": "code",
   "execution_count": 1,
   "metadata": {},
   "outputs": [
    {
     "output_type": "stream",
     "name": "stderr",
     "text": [
      "Using TensorFlow backend.\n"
     ]
    }
   ],
   "source": [
    "import os\n",
    "os.environ[\"CUDA_DEVICE_ORDER\"] = \"PCI_BUS_ID\"\n",
    "os.environ[\"CUDA_VISIBLE_DEVICES\"] = \"-1\"\n",
    "from mtcnn import MTCNN\n",
    "from PIL import Image, ImageDraw\n",
    "import cv2"
   ]
  },
  {
   "cell_type": "code",
   "execution_count": 27,
   "metadata": {
    "scrolled": true
   },
   "outputs": [
    {
     "output_type": "execute_result",
     "data": {
      "text/plain": [
       "[{'box': [68, 101, 168, 227],\n",
       "  'confidence': 0.9914127588272095,\n",
       "  'keypoints': {'left_eye': (116, 187),\n",
       "   'right_eye': (196, 211),\n",
       "   'nose': (142, 247),\n",
       "   'mouth_left': (104, 277),\n",
       "   'mouth_right': (155, 293)}}]"
      ]
     },
     "metadata": {},
     "execution_count": 27
    }
   ],
   "source": [
    "img = cv2.cvtColor(cv2.imread(\"2.png\"), cv2.COLOR_BGR2RGB)\n",
    "detector = MTCNN()\n",
    "detect_res=detector.detect_faces(img)\n",
    "detect_res"
   ]
  },
  {
   "cell_type": "code",
   "execution_count": 40,
   "metadata": {},
   "outputs": [],
   "source": [
    "bounding_box=detect_res[0][\"box\"]"
   ]
  },
  {
   "cell_type": "code",
   "execution_count": 49,
   "metadata": {},
   "outputs": [],
   "source": [
    "def draw_face_boundary(filename):\n",
    "    img = cv2.cvtColor(cv2.imread(filename), cv2.COLOR_BGR2RGB)\n",
    "    detector = MTCNN()\n",
    "    detect_res = detector.detect_faces(img)\n",
    "    boundary = detect_res[0][\"box\"]\n",
    "    im = Image.open(filename) \n",
    "    draw = ImageDraw.Draw(im) \n",
    "    draw.polygon([(boundary[0] ,boundary[1]),(boundary[0],boundary[1] + boundary[3]),(boundary[0] + boundary[2],boundary[1] + boundary[3]),(boundary[0] + boundary[2],boundary[1])])\n",
    "    im.show()\n",
    "\n",
    "draw_face_boundary(\"2.png\")"
   ]
  },
  {
   "cell_type": "code",
   "execution_count": 48,
   "metadata": {},
   "outputs": [
    {
     "output_type": "execute_result",
     "data": {
      "text/plain": [
       "True"
      ]
     },
     "metadata": {},
     "execution_count": 48
    }
   ],
   "source": [
    "cv2.rectangle(img,\n",
    "              (bounding_box[0], bounding_box[1]),\n",
    "              (bounding_box[0]+bounding_box[2], bounding_box[1] + bounding_box[3]),\n",
    "              (0,155,255),\n",
    "              2)\n",
    "cv2.imwrite(\"ivan_drawn.jpg\", cv2.cvtColor(img, cv2.COLOR_RGB2BGR))"
   ]
  },
  {
   "cell_type": "code",
   "execution_count": null,
   "metadata": {},
   "outputs": [],
   "source": [
    "de"
   ]
  }
 ],
 "metadata": {
  "kernelspec": {
   "display_name": "Python 3",
   "language": "python",
   "name": "python3"
  },
  "language_info": {
   "codemirror_mode": {
    "name": "ipython",
    "version": 3
   },
   "file_extension": ".py",
   "mimetype": "text/x-python",
   "name": "python",
   "nbconvert_exporter": "python",
   "pygments_lexer": "ipython3",
   "version": "3.7.9-final"
  }
 },
 "nbformat": 4,
 "nbformat_minor": 4
}